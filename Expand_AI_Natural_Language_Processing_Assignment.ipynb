{
  "nbformat": 4,
  "nbformat_minor": 0,
  "metadata": {
    "colab": {
      "provenance": [],
      "gpuType": "T4"
    },
    "kernelspec": {
      "name": "python3",
      "display_name": "Python 3"
    },
    "language_info": {
      "name": "python"
    },
    "accelerator": "GPU",
    "gpuClass": "standard"
  },
  "cells": [
    {
      "cell_type": "code",
      "execution_count": 1,
      "metadata": {
        "id": "QF9sXN5Ayn3l"
      },
      "outputs": [],
      "source": [
        "from mpl_toolkits.mplot3d import Axes3D\n",
        "from sklearn.preprocessing import StandardScaler\n",
        "import matplotlib.pyplot as plt # plotting\n",
        "import numpy as np \n",
        "import os \n",
        "import pandas as pd "
      ]
    },
    {
      "cell_type": "code",
      "source": [
        "import pandas as pd\n",
        "train_data= pd.read_csv('/content/atis_intents_train.csv',\n",
        "                       names= [\"target\", \"text\"])\n",
        "\n",
        "test_data= pd.read_csv('/content/atis_intents_test.csv',\n",
        "                       names= [\"target\", \"text\"])\n",
        "\n",
        "train_data "
      ],
      "metadata": {
        "colab": {
          "base_uri": "https://localhost:8080/",
          "height": 423
        },
        "id": "gwujsoq1yxz0",
        "outputId": "2943c7ef-e517-4e2e-dc01-fbe6d680bab1"
      },
      "execution_count": 2,
      "outputs": [
        {
          "output_type": "execute_result",
          "data": {
            "text/plain": [
              "                target                                               text\n",
              "0          atis_flight   i want to fly from boston at 838 am and arriv...\n",
              "1          atis_flight   what flights are available from pittsburgh to...\n",
              "2     atis_flight_time   what is the arrival time in san francisco for...\n",
              "3         atis_airfare            cheapest airfare from tacoma to orlando\n",
              "4         atis_airfare   round trip fares from pittsburgh to philadelp...\n",
              "...                ...                                                ...\n",
              "4829      atis_airfare   what is the airfare for flights from denver t...\n",
              "4830       atis_flight   do you have any flights from denver to baltim...\n",
              "4831      atis_airline          which airlines fly into and out of denver\n",
              "4832       atis_flight   does continental fly from boston to san franc...\n",
              "4833       atis_flight   is there a delta flight from denver to san fr...\n",
              "\n",
              "[4834 rows x 2 columns]"
            ],
            "text/html": [
              "\n",
              "  <div id=\"df-dd2ad462-65bd-4ca2-bf83-5475c513db2c\">\n",
              "    <div class=\"colab-df-container\">\n",
              "      <div>\n",
              "<style scoped>\n",
              "    .dataframe tbody tr th:only-of-type {\n",
              "        vertical-align: middle;\n",
              "    }\n",
              "\n",
              "    .dataframe tbody tr th {\n",
              "        vertical-align: top;\n",
              "    }\n",
              "\n",
              "    .dataframe thead th {\n",
              "        text-align: right;\n",
              "    }\n",
              "</style>\n",
              "<table border=\"1\" class=\"dataframe\">\n",
              "  <thead>\n",
              "    <tr style=\"text-align: right;\">\n",
              "      <th></th>\n",
              "      <th>target</th>\n",
              "      <th>text</th>\n",
              "    </tr>\n",
              "  </thead>\n",
              "  <tbody>\n",
              "    <tr>\n",
              "      <th>0</th>\n",
              "      <td>atis_flight</td>\n",
              "      <td>i want to fly from boston at 838 am and arriv...</td>\n",
              "    </tr>\n",
              "    <tr>\n",
              "      <th>1</th>\n",
              "      <td>atis_flight</td>\n",
              "      <td>what flights are available from pittsburgh to...</td>\n",
              "    </tr>\n",
              "    <tr>\n",
              "      <th>2</th>\n",
              "      <td>atis_flight_time</td>\n",
              "      <td>what is the arrival time in san francisco for...</td>\n",
              "    </tr>\n",
              "    <tr>\n",
              "      <th>3</th>\n",
              "      <td>atis_airfare</td>\n",
              "      <td>cheapest airfare from tacoma to orlando</td>\n",
              "    </tr>\n",
              "    <tr>\n",
              "      <th>4</th>\n",
              "      <td>atis_airfare</td>\n",
              "      <td>round trip fares from pittsburgh to philadelp...</td>\n",
              "    </tr>\n",
              "    <tr>\n",
              "      <th>...</th>\n",
              "      <td>...</td>\n",
              "      <td>...</td>\n",
              "    </tr>\n",
              "    <tr>\n",
              "      <th>4829</th>\n",
              "      <td>atis_airfare</td>\n",
              "      <td>what is the airfare for flights from denver t...</td>\n",
              "    </tr>\n",
              "    <tr>\n",
              "      <th>4830</th>\n",
              "      <td>atis_flight</td>\n",
              "      <td>do you have any flights from denver to baltim...</td>\n",
              "    </tr>\n",
              "    <tr>\n",
              "      <th>4831</th>\n",
              "      <td>atis_airline</td>\n",
              "      <td>which airlines fly into and out of denver</td>\n",
              "    </tr>\n",
              "    <tr>\n",
              "      <th>4832</th>\n",
              "      <td>atis_flight</td>\n",
              "      <td>does continental fly from boston to san franc...</td>\n",
              "    </tr>\n",
              "    <tr>\n",
              "      <th>4833</th>\n",
              "      <td>atis_flight</td>\n",
              "      <td>is there a delta flight from denver to san fr...</td>\n",
              "    </tr>\n",
              "  </tbody>\n",
              "</table>\n",
              "<p>4834 rows × 2 columns</p>\n",
              "</div>\n",
              "      <button class=\"colab-df-convert\" onclick=\"convertToInteractive('df-dd2ad462-65bd-4ca2-bf83-5475c513db2c')\"\n",
              "              title=\"Convert this dataframe to an interactive table.\"\n",
              "              style=\"display:none;\">\n",
              "        \n",
              "  <svg xmlns=\"http://www.w3.org/2000/svg\" height=\"24px\"viewBox=\"0 0 24 24\"\n",
              "       width=\"24px\">\n",
              "    <path d=\"M0 0h24v24H0V0z\" fill=\"none\"/>\n",
              "    <path d=\"M18.56 5.44l.94 2.06.94-2.06 2.06-.94-2.06-.94-.94-2.06-.94 2.06-2.06.94zm-11 1L8.5 8.5l.94-2.06 2.06-.94-2.06-.94L8.5 2.5l-.94 2.06-2.06.94zm10 10l.94 2.06.94-2.06 2.06-.94-2.06-.94-.94-2.06-.94 2.06-2.06.94z\"/><path d=\"M17.41 7.96l-1.37-1.37c-.4-.4-.92-.59-1.43-.59-.52 0-1.04.2-1.43.59L10.3 9.45l-7.72 7.72c-.78.78-.78 2.05 0 2.83L4 21.41c.39.39.9.59 1.41.59.51 0 1.02-.2 1.41-.59l7.78-7.78 2.81-2.81c.8-.78.8-2.07 0-2.86zM5.41 20L4 18.59l7.72-7.72 1.47 1.35L5.41 20z\"/>\n",
              "  </svg>\n",
              "      </button>\n",
              "      \n",
              "  <style>\n",
              "    .colab-df-container {\n",
              "      display:flex;\n",
              "      flex-wrap:wrap;\n",
              "      gap: 12px;\n",
              "    }\n",
              "\n",
              "    .colab-df-convert {\n",
              "      background-color: #E8F0FE;\n",
              "      border: none;\n",
              "      border-radius: 50%;\n",
              "      cursor: pointer;\n",
              "      display: none;\n",
              "      fill: #1967D2;\n",
              "      height: 32px;\n",
              "      padding: 0 0 0 0;\n",
              "      width: 32px;\n",
              "    }\n",
              "\n",
              "    .colab-df-convert:hover {\n",
              "      background-color: #E2EBFA;\n",
              "      box-shadow: 0px 1px 2px rgba(60, 64, 67, 0.3), 0px 1px 3px 1px rgba(60, 64, 67, 0.15);\n",
              "      fill: #174EA6;\n",
              "    }\n",
              "\n",
              "    [theme=dark] .colab-df-convert {\n",
              "      background-color: #3B4455;\n",
              "      fill: #D2E3FC;\n",
              "    }\n",
              "\n",
              "    [theme=dark] .colab-df-convert:hover {\n",
              "      background-color: #434B5C;\n",
              "      box-shadow: 0px 1px 3px 1px rgba(0, 0, 0, 0.15);\n",
              "      filter: drop-shadow(0px 1px 2px rgba(0, 0, 0, 0.3));\n",
              "      fill: #FFFFFF;\n",
              "    }\n",
              "  </style>\n",
              "\n",
              "      <script>\n",
              "        const buttonEl =\n",
              "          document.querySelector('#df-dd2ad462-65bd-4ca2-bf83-5475c513db2c button.colab-df-convert');\n",
              "        buttonEl.style.display =\n",
              "          google.colab.kernel.accessAllowed ? 'block' : 'none';\n",
              "\n",
              "        async function convertToInteractive(key) {\n",
              "          const element = document.querySelector('#df-dd2ad462-65bd-4ca2-bf83-5475c513db2c');\n",
              "          const dataTable =\n",
              "            await google.colab.kernel.invokeFunction('convertToInteractive',\n",
              "                                                     [key], {});\n",
              "          if (!dataTable) return;\n",
              "\n",
              "          const docLinkHtml = 'Like what you see? Visit the ' +\n",
              "            '<a target=\"_blank\" href=https://colab.research.google.com/notebooks/data_table.ipynb>data table notebook</a>'\n",
              "            + ' to learn more about interactive tables.';\n",
              "          element.innerHTML = '';\n",
              "          dataTable['output_type'] = 'display_data';\n",
              "          await google.colab.output.renderOutput(dataTable, element);\n",
              "          const docLink = document.createElement('div');\n",
              "          docLink.innerHTML = docLinkHtml;\n",
              "          element.appendChild(docLink);\n",
              "        }\n",
              "      </script>\n",
              "    </div>\n",
              "  </div>\n",
              "  "
            ]
          },
          "metadata": {},
          "execution_count": 2
        }
      ]
    },
    {
      "cell_type": "code",
      "source": [
        "def plotPerColumnDistribution(df, nGraphShown, nGraphPerRow):\n",
        "    nunique = df.nunique()\n",
        "    df = df[[col for col in df if nunique[col] > 1 and nunique[col] < 50]]\n",
        "    nRow, nCol = df.shape\n",
        "    columnNames = list(df)\n",
        "    nGraphRow = (nCol + nGraphPerRow - 1) / nGraphPerRow\n",
        "    nGraphRow = int(nGraphRow)\n",
        "    plt.figure(num = None, figsize = (6 * nGraphPerRow, 8 * nGraphRow), dpi = 80, facecolor = 'w', edgecolor = 'k')\n",
        "    for i in range(min(nCol, nGraphShown)):\n",
        "        plt.subplot(nGraphRow, nGraphPerRow, i + 1)\n",
        "        columnDf = df.iloc[:, i]\n",
        "        if (not np.issubdtype(type(columnDf.iloc[0]), np.number)):\n",
        "            valueCounts = columnDf.value_counts()\n",
        "            valueCounts.plot.bar()\n",
        "        else:\n",
        "            columnDf.hist()\n",
        "        plt.ylabel('counts')\n",
        "        plt.xticks(rotation = 90)\n",
        "        plt.title(f'{columnNames[i]} (column {i})')\n",
        "    plt.tight_layout(pad = 1.0, w_pad = 1.0, h_pad = 1.0)\n",
        "    plt.show()"
      ],
      "metadata": {
        "id": "VbtFr9pu0kSm"
      },
      "execution_count": 3,
      "outputs": []
    },
    {
      "cell_type": "code",
      "source": [
        "def plotCorrelationMatrix(df, graphWidth):\n",
        "    filename = df.dataframeName\n",
        "    df = df.dropna('columns') \n",
        "    df = df[[col for col in df if df[col].nunique() > 1]] \n",
        "    if df.shape[1] < 2:\n",
        "        print(f'No correlation plots shown: The number of non-NaN or constant columns ({df.shape[1]}) is less than 2')\n",
        "        return\n",
        "    corr = df.corr()\n",
        "    plt.figure(num=None, figsize=(graphWidth, graphWidth), dpi=80, facecolor='w', edgecolor='k')\n",
        "    corrMat = plt.matshow(corr, fignum = 1)\n",
        "    plt.xticks(range(len(corr.columns)), corr.columns, rotation=90)\n",
        "    plt.yticks(range(len(corr.columns)), corr.columns)\n",
        "    plt.gca().xaxis.tick_bottom()\n",
        "    plt.colorbar(corrMat)\n",
        "    plt.title(f'Correlation Matrix for {filename}', fontsize=15)\n",
        "    plt.show()\n"
      ],
      "metadata": {
        "id": "ALlAXVh27q6K"
      },
      "execution_count": 4,
      "outputs": []
    },
    {
      "cell_type": "code",
      "source": [
        "print(train_data.target.unique())"
      ],
      "metadata": {
        "colab": {
          "base_uri": "https://localhost:8080/"
        },
        "id": "W4C-O1VA4kJZ",
        "outputId": "95764f08-26e5-4143-8755-51f068ca6980"
      },
      "execution_count": 5,
      "outputs": [
        {
          "output_type": "stream",
          "name": "stdout",
          "text": [
            "['atis_flight' 'atis_flight_time' 'atis_airfare' 'atis_aircraft'\n",
            " 'atis_ground_service' 'atis_airline' 'atis_abbreviation' 'atis_quantity']\n"
          ]
        }
      ]
    },
    {
      "cell_type": "code",
      "source": [
        "train_data.target.value_counts()"
      ],
      "metadata": {
        "colab": {
          "base_uri": "https://localhost:8080/"
        },
        "id": "5SEewvB04qgn",
        "outputId": "ca4ef4c5-264d-441e-a87a-18f567378d31"
      },
      "execution_count": 6,
      "outputs": [
        {
          "output_type": "execute_result",
          "data": {
            "text/plain": [
              "atis_flight            3666\n",
              "atis_airfare            423\n",
              "atis_ground_service     255\n",
              "atis_airline            157\n",
              "atis_abbreviation       147\n",
              "atis_aircraft            81\n",
              "atis_flight_time         54\n",
              "atis_quantity            51\n",
              "Name: target, dtype: int64"
            ]
          },
          "metadata": {},
          "execution_count": 6
        }
      ]
    },
    {
      "cell_type": "code",
      "source": [
        "train_data = train_data[train_data[\"target\"].str.contains(\"#\")==False]\n",
        "train_data.target.value_counts()"
      ],
      "metadata": {
        "colab": {
          "base_uri": "https://localhost:8080/"
        },
        "id": "coTIyW8x4z8N",
        "outputId": "983a7865-6ff0-423a-cafa-0a7ac6f23868"
      },
      "execution_count": 7,
      "outputs": [
        {
          "output_type": "execute_result",
          "data": {
            "text/plain": [
              "atis_flight            3666\n",
              "atis_airfare            423\n",
              "atis_ground_service     255\n",
              "atis_airline            157\n",
              "atis_abbreviation       147\n",
              "atis_aircraft            81\n",
              "atis_flight_time         54\n",
              "atis_quantity            51\n",
              "Name: target, dtype: int64"
            ]
          },
          "metadata": {},
          "execution_count": 7
        }
      ]
    },
    {
      "cell_type": "code",
      "source": [
        "train_data = train_data[train_data[\"text\"].str.contains(\"#\")==False]\n",
        "train_data.target.value_counts()"
      ],
      "metadata": {
        "colab": {
          "base_uri": "https://localhost:8080/"
        },
        "id": "A3Oc8nBu6ywQ",
        "outputId": "7c4d9029-5fd7-4c6f-bd9b-4f58f5784cf5"
      },
      "execution_count": 8,
      "outputs": [
        {
          "output_type": "execute_result",
          "data": {
            "text/plain": [
              "atis_flight            3666\n",
              "atis_airfare            423\n",
              "atis_ground_service     255\n",
              "atis_airline            157\n",
              "atis_abbreviation       147\n",
              "atis_aircraft            81\n",
              "atis_flight_time         54\n",
              "atis_quantity            51\n",
              "Name: target, dtype: int64"
            ]
          },
          "metadata": {},
          "execution_count": 8
        }
      ]
    },
    {
      "cell_type": "code",
      "source": [
        "train_null = pd.isnull(train_data[\"target\"]) \n",
        "train_data[train_null]"
      ],
      "metadata": {
        "colab": {
          "base_uri": "https://localhost:8080/",
          "height": 49
        },
        "id": "uOOrTZRp5El5",
        "outputId": "aeac00ce-a4ad-45ce-9aaf-a801168073da"
      },
      "execution_count": 9,
      "outputs": [
        {
          "output_type": "execute_result",
          "data": {
            "text/plain": [
              "Empty DataFrame\n",
              "Columns: [target, text]\n",
              "Index: []"
            ],
            "text/html": [
              "\n",
              "  <div id=\"df-edd139d5-da2d-4bdd-82c9-ecf3a731dc45\">\n",
              "    <div class=\"colab-df-container\">\n",
              "      <div>\n",
              "<style scoped>\n",
              "    .dataframe tbody tr th:only-of-type {\n",
              "        vertical-align: middle;\n",
              "    }\n",
              "\n",
              "    .dataframe tbody tr th {\n",
              "        vertical-align: top;\n",
              "    }\n",
              "\n",
              "    .dataframe thead th {\n",
              "        text-align: right;\n",
              "    }\n",
              "</style>\n",
              "<table border=\"1\" class=\"dataframe\">\n",
              "  <thead>\n",
              "    <tr style=\"text-align: right;\">\n",
              "      <th></th>\n",
              "      <th>target</th>\n",
              "      <th>text</th>\n",
              "    </tr>\n",
              "  </thead>\n",
              "  <tbody>\n",
              "  </tbody>\n",
              "</table>\n",
              "</div>\n",
              "      <button class=\"colab-df-convert\" onclick=\"convertToInteractive('df-edd139d5-da2d-4bdd-82c9-ecf3a731dc45')\"\n",
              "              title=\"Convert this dataframe to an interactive table.\"\n",
              "              style=\"display:none;\">\n",
              "        \n",
              "  <svg xmlns=\"http://www.w3.org/2000/svg\" height=\"24px\"viewBox=\"0 0 24 24\"\n",
              "       width=\"24px\">\n",
              "    <path d=\"M0 0h24v24H0V0z\" fill=\"none\"/>\n",
              "    <path d=\"M18.56 5.44l.94 2.06.94-2.06 2.06-.94-2.06-.94-.94-2.06-.94 2.06-2.06.94zm-11 1L8.5 8.5l.94-2.06 2.06-.94-2.06-.94L8.5 2.5l-.94 2.06-2.06.94zm10 10l.94 2.06.94-2.06 2.06-.94-2.06-.94-.94-2.06-.94 2.06-2.06.94z\"/><path d=\"M17.41 7.96l-1.37-1.37c-.4-.4-.92-.59-1.43-.59-.52 0-1.04.2-1.43.59L10.3 9.45l-7.72 7.72c-.78.78-.78 2.05 0 2.83L4 21.41c.39.39.9.59 1.41.59.51 0 1.02-.2 1.41-.59l7.78-7.78 2.81-2.81c.8-.78.8-2.07 0-2.86zM5.41 20L4 18.59l7.72-7.72 1.47 1.35L5.41 20z\"/>\n",
              "  </svg>\n",
              "      </button>\n",
              "      \n",
              "  <style>\n",
              "    .colab-df-container {\n",
              "      display:flex;\n",
              "      flex-wrap:wrap;\n",
              "      gap: 12px;\n",
              "    }\n",
              "\n",
              "    .colab-df-convert {\n",
              "      background-color: #E8F0FE;\n",
              "      border: none;\n",
              "      border-radius: 50%;\n",
              "      cursor: pointer;\n",
              "      display: none;\n",
              "      fill: #1967D2;\n",
              "      height: 32px;\n",
              "      padding: 0 0 0 0;\n",
              "      width: 32px;\n",
              "    }\n",
              "\n",
              "    .colab-df-convert:hover {\n",
              "      background-color: #E2EBFA;\n",
              "      box-shadow: 0px 1px 2px rgba(60, 64, 67, 0.3), 0px 1px 3px 1px rgba(60, 64, 67, 0.15);\n",
              "      fill: #174EA6;\n",
              "    }\n",
              "\n",
              "    [theme=dark] .colab-df-convert {\n",
              "      background-color: #3B4455;\n",
              "      fill: #D2E3FC;\n",
              "    }\n",
              "\n",
              "    [theme=dark] .colab-df-convert:hover {\n",
              "      background-color: #434B5C;\n",
              "      box-shadow: 0px 1px 3px 1px rgba(0, 0, 0, 0.15);\n",
              "      filter: drop-shadow(0px 1px 2px rgba(0, 0, 0, 0.3));\n",
              "      fill: #FFFFFF;\n",
              "    }\n",
              "  </style>\n",
              "\n",
              "      <script>\n",
              "        const buttonEl =\n",
              "          document.querySelector('#df-edd139d5-da2d-4bdd-82c9-ecf3a731dc45 button.colab-df-convert');\n",
              "        buttonEl.style.display =\n",
              "          google.colab.kernel.accessAllowed ? 'block' : 'none';\n",
              "\n",
              "        async function convertToInteractive(key) {\n",
              "          const element = document.querySelector('#df-edd139d5-da2d-4bdd-82c9-ecf3a731dc45');\n",
              "          const dataTable =\n",
              "            await google.colab.kernel.invokeFunction('convertToInteractive',\n",
              "                                                     [key], {});\n",
              "          if (!dataTable) return;\n",
              "\n",
              "          const docLinkHtml = 'Like what you see? Visit the ' +\n",
              "            '<a target=\"_blank\" href=https://colab.research.google.com/notebooks/data_table.ipynb>data table notebook</a>'\n",
              "            + ' to learn more about interactive tables.';\n",
              "          element.innerHTML = '';\n",
              "          dataTable['output_type'] = 'display_data';\n",
              "          await google.colab.output.renderOutput(dataTable, element);\n",
              "          const docLink = document.createElement('div');\n",
              "          docLink.innerHTML = docLinkHtml;\n",
              "          element.appendChild(docLink);\n",
              "        }\n",
              "      </script>\n",
              "    </div>\n",
              "  </div>\n",
              "  "
            ]
          },
          "metadata": {},
          "execution_count": 9
        }
      ]
    },
    {
      "cell_type": "code",
      "source": [
        "train_null = pd.isnull(train_data[\"text\"]) \n",
        "train_data[train_null]\n"
      ],
      "metadata": {
        "colab": {
          "base_uri": "https://localhost:8080/",
          "height": 49
        },
        "id": "oH2L_K5p65-C",
        "outputId": "60656e1c-4ed9-4036-de57-df8f4d0858a7"
      },
      "execution_count": 10,
      "outputs": [
        {
          "output_type": "execute_result",
          "data": {
            "text/plain": [
              "Empty DataFrame\n",
              "Columns: [target, text]\n",
              "Index: []"
            ],
            "text/html": [
              "\n",
              "  <div id=\"df-b79df97b-0394-434e-818b-dc0ee52e9c79\">\n",
              "    <div class=\"colab-df-container\">\n",
              "      <div>\n",
              "<style scoped>\n",
              "    .dataframe tbody tr th:only-of-type {\n",
              "        vertical-align: middle;\n",
              "    }\n",
              "\n",
              "    .dataframe tbody tr th {\n",
              "        vertical-align: top;\n",
              "    }\n",
              "\n",
              "    .dataframe thead th {\n",
              "        text-align: right;\n",
              "    }\n",
              "</style>\n",
              "<table border=\"1\" class=\"dataframe\">\n",
              "  <thead>\n",
              "    <tr style=\"text-align: right;\">\n",
              "      <th></th>\n",
              "      <th>target</th>\n",
              "      <th>text</th>\n",
              "    </tr>\n",
              "  </thead>\n",
              "  <tbody>\n",
              "  </tbody>\n",
              "</table>\n",
              "</div>\n",
              "      <button class=\"colab-df-convert\" onclick=\"convertToInteractive('df-b79df97b-0394-434e-818b-dc0ee52e9c79')\"\n",
              "              title=\"Convert this dataframe to an interactive table.\"\n",
              "              style=\"display:none;\">\n",
              "        \n",
              "  <svg xmlns=\"http://www.w3.org/2000/svg\" height=\"24px\"viewBox=\"0 0 24 24\"\n",
              "       width=\"24px\">\n",
              "    <path d=\"M0 0h24v24H0V0z\" fill=\"none\"/>\n",
              "    <path d=\"M18.56 5.44l.94 2.06.94-2.06 2.06-.94-2.06-.94-.94-2.06-.94 2.06-2.06.94zm-11 1L8.5 8.5l.94-2.06 2.06-.94-2.06-.94L8.5 2.5l-.94 2.06-2.06.94zm10 10l.94 2.06.94-2.06 2.06-.94-2.06-.94-.94-2.06-.94 2.06-2.06.94z\"/><path d=\"M17.41 7.96l-1.37-1.37c-.4-.4-.92-.59-1.43-.59-.52 0-1.04.2-1.43.59L10.3 9.45l-7.72 7.72c-.78.78-.78 2.05 0 2.83L4 21.41c.39.39.9.59 1.41.59.51 0 1.02-.2 1.41-.59l7.78-7.78 2.81-2.81c.8-.78.8-2.07 0-2.86zM5.41 20L4 18.59l7.72-7.72 1.47 1.35L5.41 20z\"/>\n",
              "  </svg>\n",
              "      </button>\n",
              "      \n",
              "  <style>\n",
              "    .colab-df-container {\n",
              "      display:flex;\n",
              "      flex-wrap:wrap;\n",
              "      gap: 12px;\n",
              "    }\n",
              "\n",
              "    .colab-df-convert {\n",
              "      background-color: #E8F0FE;\n",
              "      border: none;\n",
              "      border-radius: 50%;\n",
              "      cursor: pointer;\n",
              "      display: none;\n",
              "      fill: #1967D2;\n",
              "      height: 32px;\n",
              "      padding: 0 0 0 0;\n",
              "      width: 32px;\n",
              "    }\n",
              "\n",
              "    .colab-df-convert:hover {\n",
              "      background-color: #E2EBFA;\n",
              "      box-shadow: 0px 1px 2px rgba(60, 64, 67, 0.3), 0px 1px 3px 1px rgba(60, 64, 67, 0.15);\n",
              "      fill: #174EA6;\n",
              "    }\n",
              "\n",
              "    [theme=dark] .colab-df-convert {\n",
              "      background-color: #3B4455;\n",
              "      fill: #D2E3FC;\n",
              "    }\n",
              "\n",
              "    [theme=dark] .colab-df-convert:hover {\n",
              "      background-color: #434B5C;\n",
              "      box-shadow: 0px 1px 3px 1px rgba(0, 0, 0, 0.15);\n",
              "      filter: drop-shadow(0px 1px 2px rgba(0, 0, 0, 0.3));\n",
              "      fill: #FFFFFF;\n",
              "    }\n",
              "  </style>\n",
              "\n",
              "      <script>\n",
              "        const buttonEl =\n",
              "          document.querySelector('#df-b79df97b-0394-434e-818b-dc0ee52e9c79 button.colab-df-convert');\n",
              "        buttonEl.style.display =\n",
              "          google.colab.kernel.accessAllowed ? 'block' : 'none';\n",
              "\n",
              "        async function convertToInteractive(key) {\n",
              "          const element = document.querySelector('#df-b79df97b-0394-434e-818b-dc0ee52e9c79');\n",
              "          const dataTable =\n",
              "            await google.colab.kernel.invokeFunction('convertToInteractive',\n",
              "                                                     [key], {});\n",
              "          if (!dataTable) return;\n",
              "\n",
              "          const docLinkHtml = 'Like what you see? Visit the ' +\n",
              "            '<a target=\"_blank\" href=https://colab.research.google.com/notebooks/data_table.ipynb>data table notebook</a>'\n",
              "            + ' to learn more about interactive tables.';\n",
              "          element.innerHTML = '';\n",
              "          dataTable['output_type'] = 'display_data';\n",
              "          await google.colab.output.renderOutput(dataTable, element);\n",
              "          const docLink = document.createElement('div');\n",
              "          docLink.innerHTML = docLinkHtml;\n",
              "          element.appendChild(docLink);\n",
              "        }\n",
              "      </script>\n",
              "    </div>\n",
              "  </div>\n",
              "  "
            ]
          },
          "metadata": {},
          "execution_count": 10
        }
      ]
    },
    {
      "cell_type": "code",
      "source": [
        "train_data.head(5)"
      ],
      "metadata": {
        "colab": {
          "base_uri": "https://localhost:8080/",
          "height": 206
        },
        "id": "SsXhp5Tf0O1v",
        "outputId": "05a23cef-4a6b-4aa9-f588-ecc3d1d283d1"
      },
      "execution_count": 11,
      "outputs": [
        {
          "output_type": "execute_result",
          "data": {
            "text/plain": [
              "             target                                               text\n",
              "0       atis_flight   i want to fly from boston at 838 am and arriv...\n",
              "1       atis_flight   what flights are available from pittsburgh to...\n",
              "2  atis_flight_time   what is the arrival time in san francisco for...\n",
              "3      atis_airfare            cheapest airfare from tacoma to orlando\n",
              "4      atis_airfare   round trip fares from pittsburgh to philadelp..."
            ],
            "text/html": [
              "\n",
              "  <div id=\"df-ed7bde33-a240-4b62-bf4e-9b480a6ba5ef\">\n",
              "    <div class=\"colab-df-container\">\n",
              "      <div>\n",
              "<style scoped>\n",
              "    .dataframe tbody tr th:only-of-type {\n",
              "        vertical-align: middle;\n",
              "    }\n",
              "\n",
              "    .dataframe tbody tr th {\n",
              "        vertical-align: top;\n",
              "    }\n",
              "\n",
              "    .dataframe thead th {\n",
              "        text-align: right;\n",
              "    }\n",
              "</style>\n",
              "<table border=\"1\" class=\"dataframe\">\n",
              "  <thead>\n",
              "    <tr style=\"text-align: right;\">\n",
              "      <th></th>\n",
              "      <th>target</th>\n",
              "      <th>text</th>\n",
              "    </tr>\n",
              "  </thead>\n",
              "  <tbody>\n",
              "    <tr>\n",
              "      <th>0</th>\n",
              "      <td>atis_flight</td>\n",
              "      <td>i want to fly from boston at 838 am and arriv...</td>\n",
              "    </tr>\n",
              "    <tr>\n",
              "      <th>1</th>\n",
              "      <td>atis_flight</td>\n",
              "      <td>what flights are available from pittsburgh to...</td>\n",
              "    </tr>\n",
              "    <tr>\n",
              "      <th>2</th>\n",
              "      <td>atis_flight_time</td>\n",
              "      <td>what is the arrival time in san francisco for...</td>\n",
              "    </tr>\n",
              "    <tr>\n",
              "      <th>3</th>\n",
              "      <td>atis_airfare</td>\n",
              "      <td>cheapest airfare from tacoma to orlando</td>\n",
              "    </tr>\n",
              "    <tr>\n",
              "      <th>4</th>\n",
              "      <td>atis_airfare</td>\n",
              "      <td>round trip fares from pittsburgh to philadelp...</td>\n",
              "    </tr>\n",
              "  </tbody>\n",
              "</table>\n",
              "</div>\n",
              "      <button class=\"colab-df-convert\" onclick=\"convertToInteractive('df-ed7bde33-a240-4b62-bf4e-9b480a6ba5ef')\"\n",
              "              title=\"Convert this dataframe to an interactive table.\"\n",
              "              style=\"display:none;\">\n",
              "        \n",
              "  <svg xmlns=\"http://www.w3.org/2000/svg\" height=\"24px\"viewBox=\"0 0 24 24\"\n",
              "       width=\"24px\">\n",
              "    <path d=\"M0 0h24v24H0V0z\" fill=\"none\"/>\n",
              "    <path d=\"M18.56 5.44l.94 2.06.94-2.06 2.06-.94-2.06-.94-.94-2.06-.94 2.06-2.06.94zm-11 1L8.5 8.5l.94-2.06 2.06-.94-2.06-.94L8.5 2.5l-.94 2.06-2.06.94zm10 10l.94 2.06.94-2.06 2.06-.94-2.06-.94-.94-2.06-.94 2.06-2.06.94z\"/><path d=\"M17.41 7.96l-1.37-1.37c-.4-.4-.92-.59-1.43-.59-.52 0-1.04.2-1.43.59L10.3 9.45l-7.72 7.72c-.78.78-.78 2.05 0 2.83L4 21.41c.39.39.9.59 1.41.59.51 0 1.02-.2 1.41-.59l7.78-7.78 2.81-2.81c.8-.78.8-2.07 0-2.86zM5.41 20L4 18.59l7.72-7.72 1.47 1.35L5.41 20z\"/>\n",
              "  </svg>\n",
              "      </button>\n",
              "      \n",
              "  <style>\n",
              "    .colab-df-container {\n",
              "      display:flex;\n",
              "      flex-wrap:wrap;\n",
              "      gap: 12px;\n",
              "    }\n",
              "\n",
              "    .colab-df-convert {\n",
              "      background-color: #E8F0FE;\n",
              "      border: none;\n",
              "      border-radius: 50%;\n",
              "      cursor: pointer;\n",
              "      display: none;\n",
              "      fill: #1967D2;\n",
              "      height: 32px;\n",
              "      padding: 0 0 0 0;\n",
              "      width: 32px;\n",
              "    }\n",
              "\n",
              "    .colab-df-convert:hover {\n",
              "      background-color: #E2EBFA;\n",
              "      box-shadow: 0px 1px 2px rgba(60, 64, 67, 0.3), 0px 1px 3px 1px rgba(60, 64, 67, 0.15);\n",
              "      fill: #174EA6;\n",
              "    }\n",
              "\n",
              "    [theme=dark] .colab-df-convert {\n",
              "      background-color: #3B4455;\n",
              "      fill: #D2E3FC;\n",
              "    }\n",
              "\n",
              "    [theme=dark] .colab-df-convert:hover {\n",
              "      background-color: #434B5C;\n",
              "      box-shadow: 0px 1px 3px 1px rgba(0, 0, 0, 0.15);\n",
              "      filter: drop-shadow(0px 1px 2px rgba(0, 0, 0, 0.3));\n",
              "      fill: #FFFFFF;\n",
              "    }\n",
              "  </style>\n",
              "\n",
              "      <script>\n",
              "        const buttonEl =\n",
              "          document.querySelector('#df-ed7bde33-a240-4b62-bf4e-9b480a6ba5ef button.colab-df-convert');\n",
              "        buttonEl.style.display =\n",
              "          google.colab.kernel.accessAllowed ? 'block' : 'none';\n",
              "\n",
              "        async function convertToInteractive(key) {\n",
              "          const element = document.querySelector('#df-ed7bde33-a240-4b62-bf4e-9b480a6ba5ef');\n",
              "          const dataTable =\n",
              "            await google.colab.kernel.invokeFunction('convertToInteractive',\n",
              "                                                     [key], {});\n",
              "          if (!dataTable) return;\n",
              "\n",
              "          const docLinkHtml = 'Like what you see? Visit the ' +\n",
              "            '<a target=\"_blank\" href=https://colab.research.google.com/notebooks/data_table.ipynb>data table notebook</a>'\n",
              "            + ' to learn more about interactive tables.';\n",
              "          element.innerHTML = '';\n",
              "          dataTable['output_type'] = 'display_data';\n",
              "          await google.colab.output.renderOutput(dataTable, element);\n",
              "          const docLink = document.createElement('div');\n",
              "          docLink.innerHTML = docLinkHtml;\n",
              "          element.appendChild(docLink);\n",
              "        }\n",
              "      </script>\n",
              "    </div>\n",
              "  </div>\n",
              "  "
            ]
          },
          "metadata": {},
          "execution_count": 11
        }
      ]
    },
    {
      "cell_type": "code",
      "source": [
        "  nunique = train_data.nunique()\n",
        "  nunique"
      ],
      "metadata": {
        "colab": {
          "base_uri": "https://localhost:8080/"
        },
        "id": "rs8C3adw015Z",
        "outputId": "afc01533-9d2b-4d69-bf75-32f29d056f8a"
      },
      "execution_count": 12,
      "outputs": [
        {
          "output_type": "execute_result",
          "data": {
            "text/plain": [
              "target       8\n",
              "text      4499\n",
              "dtype: int64"
            ]
          },
          "metadata": {},
          "execution_count": 12
        }
      ]
    },
    {
      "cell_type": "code",
      "source": [
        "plotPerColumnDistribution(train_data, 10, 5)"
      ],
      "metadata": {
        "colab": {
          "base_uri": "https://localhost:8080/",
          "height": 650
        },
        "id": "ehqUQWC63mm3",
        "outputId": "97935bad-11e7-4878-aa42-d16637cb7746"
      },
      "execution_count": 13,
      "outputs": [
        {
          "output_type": "display_data",
          "data": {
            "text/plain": [
              "<Figure size 2400x640 with 1 Axes>"
            ],
            "image/png": "[encoded data removed]"
          },
          "metadata": {}
        }
      ]
    },
    {
      "cell_type": "code",
      "source": [
        "print(test_data.target.unique())"
      ],
      "metadata": {
        "colab": {
          "base_uri": "https://localhost:8080/"
        },
        "id": "qkJK98JL51Yi",
        "outputId": "1579e1fa-cfc9-4599-a350-f7a36e615d0a"
      },
      "execution_count": 14,
      "outputs": [
        {
          "output_type": "stream",
          "name": "stdout",
          "text": [
            "['atis_flight' 'atis_airfare' 'atis_ground_service' 'atis_airline'\n",
            " 'atis_flight_time' 'atis_quantity' 'atis_abbreviation' 'atis_aircraft']\n"
          ]
        }
      ]
    },
    {
      "cell_type": "code",
      "source": [
        "test_data.target.value_counts()"
      ],
      "metadata": {
        "colab": {
          "base_uri": "https://localhost:8080/"
        },
        "id": "cS1ICGlJ545q",
        "outputId": "d92f917a-bc97-4945-b589-5a54b9998b87"
      },
      "execution_count": 15,
      "outputs": [
        {
          "output_type": "execute_result",
          "data": {
            "text/plain": [
              "atis_flight            632\n",
              "atis_airfare            48\n",
              "atis_airline            38\n",
              "atis_ground_service     36\n",
              "atis_abbreviation       33\n",
              "atis_aircraft            9\n",
              "atis_quantity            3\n",
              "atis_flight_time         1\n",
              "Name: target, dtype: int64"
            ]
          },
          "metadata": {},
          "execution_count": 15
        }
      ]
    },
    {
      "cell_type": "code",
      "source": [
        "test_data = test_data[test_data[\"target\"].str.contains(\"#\")==False]\n",
        "test_data.target.value_counts()"
      ],
      "metadata": {
        "colab": {
          "base_uri": "https://localhost:8080/"
        },
        "id": "4afnP36g6jaO",
        "outputId": "63413908-df0d-4a5e-d583-cc6688d5aec2"
      },
      "execution_count": 16,
      "outputs": [
        {
          "output_type": "execute_result",
          "data": {
            "text/plain": [
              "atis_flight            632\n",
              "atis_airfare            48\n",
              "atis_airline            38\n",
              "atis_ground_service     36\n",
              "atis_abbreviation       33\n",
              "atis_aircraft            9\n",
              "atis_quantity            3\n",
              "atis_flight_time         1\n",
              "Name: target, dtype: int64"
            ]
          },
          "metadata": {},
          "execution_count": 16
        }
      ]
    },
    {
      "cell_type": "code",
      "source": [
        "test_null = pd.isnull(test_data[\"target\"]) \n",
        "test_data[test_null]"
      ],
      "metadata": {
        "colab": {
          "base_uri": "https://localhost:8080/",
          "height": 49
        },
        "id": "a1j0yvaD7ISA",
        "outputId": "5499cb30-589b-44c0-87b2-049f466e23cf"
      },
      "execution_count": 17,
      "outputs": [
        {
          "output_type": "execute_result",
          "data": {
            "text/plain": [
              "Empty DataFrame\n",
              "Columns: [target, text]\n",
              "Index: []"
            ],
            "text/html": [
              "\n",
              "  <div id=\"df-3d316f30-f68e-4eae-b1b6-fa8690e982b5\">\n",
              "    <div class=\"colab-df-container\">\n",
              "      <div>\n",
              "<style scoped>\n",
              "    .dataframe tbody tr th:only-of-type {\n",
              "        vertical-align: middle;\n",
              "    }\n",
              "\n",
              "    .dataframe tbody tr th {\n",
              "        vertical-align: top;\n",
              "    }\n",
              "\n",
              "    .dataframe thead th {\n",
              "        text-align: right;\n",
              "    }\n",
              "</style>\n",
              "<table border=\"1\" class=\"dataframe\">\n",
              "  <thead>\n",
              "    <tr style=\"text-align: right;\">\n",
              "      <th></th>\n",
              "      <th>target</th>\n",
              "      <th>text</th>\n",
              "    </tr>\n",
              "  </thead>\n",
              "  <tbody>\n",
              "  </tbody>\n",
              "</table>\n",
              "</div>\n",
              "      <button class=\"colab-df-convert\" onclick=\"convertToInteractive('df-3d316f30-f68e-4eae-b1b6-fa8690e982b5')\"\n",
              "              title=\"Convert this dataframe to an interactive table.\"\n",
              "              style=\"display:none;\">\n",
              "        \n",
              "  <svg xmlns=\"http://www.w3.org/2000/svg\" height=\"24px\"viewBox=\"0 0 24 24\"\n",
              "       width=\"24px\">\n",
              "    <path d=\"M0 0h24v24H0V0z\" fill=\"none\"/>\n",
              "    <path d=\"M18.56 5.44l.94 2.06.94-2.06 2.06-.94-2.06-.94-.94-2.06-.94 2.06-2.06.94zm-11 1L8.5 8.5l.94-2.06 2.06-.94-2.06-.94L8.5 2.5l-.94 2.06-2.06.94zm10 10l.94 2.06.94-2.06 2.06-.94-2.06-.94-.94-2.06-.94 2.06-2.06.94z\"/><path d=\"M17.41 7.96l-1.37-1.37c-.4-.4-.92-.59-1.43-.59-.52 0-1.04.2-1.43.59L10.3 9.45l-7.72 7.72c-.78.78-.78 2.05 0 2.83L4 21.41c.39.39.9.59 1.41.59.51 0 1.02-.2 1.41-.59l7.78-7.78 2.81-2.81c.8-.78.8-2.07 0-2.86zM5.41 20L4 18.59l7.72-7.72 1.47 1.35L5.41 20z\"/>\n",
              "  </svg>\n",
              "      </button>\n",
              "      \n",
              "  <style>\n",
              "    .colab-df-container {\n",
              "      display:flex;\n",
              "      flex-wrap:wrap;\n",
              "      gap: 12px;\n",
              "    }\n",
              "\n",
              "    .colab-df-convert {\n",
              "      background-color: #E8F0FE;\n",
              "      border: none;\n",
              "      border-radius: 50%;\n",
              "      cursor: pointer;\n",
              "      display: none;\n",
              "      fill: #1967D2;\n",
              "      height: 32px;\n",
              "      padding: 0 0 0 0;\n",
              "      width: 32px;\n",
              "    }\n",
              "\n",
              "    .colab-df-convert:hover {\n",
              "      background-color: #E2EBFA;\n",
              "      box-shadow: 0px 1px 2px rgba(60, 64, 67, 0.3), 0px 1px 3px 1px rgba(60, 64, 67, 0.15);\n",
              "      fill: #174EA6;\n",
              "    }\n",
              "\n",
              "    [theme=dark] .colab-df-convert {\n",
              "      background-color: #3B4455;\n",
              "      fill: #D2E3FC;\n",
              "    }\n",
              "\n",
              "    [theme=dark] .colab-df-convert:hover {\n",
              "      background-color: #434B5C;\n",
              "      box-shadow: 0px 1px 3px 1px rgba(0, 0, 0, 0.15);\n",
              "      filter: drop-shadow(0px 1px 2px rgba(0, 0, 0, 0.3));\n",
              "      fill: #FFFFFF;\n",
              "    }\n",
              "  </style>\n",
              "\n",
              "      <script>\n",
              "        const buttonEl =\n",
              "          document.querySelector('#df-3d316f30-f68e-4eae-b1b6-fa8690e982b5 button.colab-df-convert');\n",
              "        buttonEl.style.display =\n",
              "          google.colab.kernel.accessAllowed ? 'block' : 'none';\n",
              "\n",
              "        async function convertToInteractive(key) {\n",
              "          const element = document.querySelector('#df-3d316f30-f68e-4eae-b1b6-fa8690e982b5');\n",
              "          const dataTable =\n",
              "            await google.colab.kernel.invokeFunction('convertToInteractive',\n",
              "                                                     [key], {});\n",
              "          if (!dataTable) return;\n",
              "\n",
              "          const docLinkHtml = 'Like what you see? Visit the ' +\n",
              "            '<a target=\"_blank\" href=https://colab.research.google.com/notebooks/data_table.ipynb>data table notebook</a>'\n",
              "            + ' to learn more about interactive tables.';\n",
              "          element.innerHTML = '';\n",
              "          dataTable['output_type'] = 'display_data';\n",
              "          await google.colab.output.renderOutput(dataTable, element);\n",
              "          const docLink = document.createElement('div');\n",
              "          docLink.innerHTML = docLinkHtml;\n",
              "          element.appendChild(docLink);\n",
              "        }\n",
              "      </script>\n",
              "    </div>\n",
              "  </div>\n",
              "  "
            ]
          },
          "metadata": {},
          "execution_count": 17
        }
      ]
    },
    {
      "cell_type": "code",
      "source": [
        "test_null = pd.isnull(test_data[\"text\"]) \n",
        "test_data[test_null]"
      ],
      "metadata": {
        "colab": {
          "base_uri": "https://localhost:8080/",
          "height": 49
        },
        "id": "ugKgngrq7PKQ",
        "outputId": "8aba9601-7b68-4a0c-d85f-b84f5d440684"
      },
      "execution_count": 18,
      "outputs": [
        {
          "output_type": "execute_result",
          "data": {
            "text/plain": [
              "Empty DataFrame\n",
              "Columns: [target, text]\n",
              "Index: []"
            ],
            "text/html": [
              "\n",
              "  <div id=\"df-9eb56086-5262-4769-b6e1-fe17d7be412c\">\n",
              "    <div class=\"colab-df-container\">\n",
              "      <div>\n",
              "<style scoped>\n",
              "    .dataframe tbody tr th:only-of-type {\n",
              "        vertical-align: middle;\n",
              "    }\n",
              "\n",
              "    .dataframe tbody tr th {\n",
              "        vertical-align: top;\n",
              "    }\n",
              "\n",
              "    .dataframe thead th {\n",
              "        text-align: right;\n",
              "    }\n",
              "</style>\n",
              "<table border=\"1\" class=\"dataframe\">\n",
              "  <thead>\n",
              "    <tr style=\"text-align: right;\">\n",
              "      <th></th>\n",
              "      <th>target</th>\n",
              "      <th>text</th>\n",
              "    </tr>\n",
              "  </thead>\n",
              "  <tbody>\n",
              "  </tbody>\n",
              "</table>\n",
              "</div>\n",
              "      <button class=\"colab-df-convert\" onclick=\"convertToInteractive('df-9eb56086-5262-4769-b6e1-fe17d7be412c')\"\n",
              "              title=\"Convert this dataframe to an interactive table.\"\n",
              "              style=\"display:none;\">\n",
              "        \n",
              "  <svg xmlns=\"http://www.w3.org/2000/svg\" height=\"24px\"viewBox=\"0 0 24 24\"\n",
              "       width=\"24px\">\n",
              "    <path d=\"M0 0h24v24H0V0z\" fill=\"none\"/>\n",
              "    <path d=\"M18.56 5.44l.94 2.06.94-2.06 2.06-.94-2.06-.94-.94-2.06-.94 2.06-2.06.94zm-11 1L8.5 8.5l.94-2.06 2.06-.94-2.06-.94L8.5 2.5l-.94 2.06-2.06.94zm10 10l.94 2.06.94-2.06 2.06-.94-2.06-.94-.94-2.06-.94 2.06-2.06.94z\"/><path d=\"M17.41 7.96l-1.37-1.37c-.4-.4-.92-.59-1.43-.59-.52 0-1.04.2-1.43.59L10.3 9.45l-7.72 7.72c-.78.78-.78 2.05 0 2.83L4 21.41c.39.39.9.59 1.41.59.51 0 1.02-.2 1.41-.59l7.78-7.78 2.81-2.81c.8-.78.8-2.07 0-2.86zM5.41 20L4 18.59l7.72-7.72 1.47 1.35L5.41 20z\"/>\n",
              "  </svg>\n",
              "      </button>\n",
              "      \n",
              "  <style>\n",
              "    .colab-df-container {\n",
              "      display:flex;\n",
              "      flex-wrap:wrap;\n",
              "      gap: 12px;\n",
              "    }\n",
              "\n",
              "    .colab-df-convert {\n",
              "      background-color: #E8F0FE;\n",
              "      border: none;\n",
              "      border-radius: 50%;\n",
              "      cursor: pointer;\n",
              "      display: none;\n",
              "      fill: #1967D2;\n",
              "      height: 32px;\n",
              "      padding: 0 0 0 0;\n",
              "      width: 32px;\n",
              "    }\n",
              "\n",
              "    .colab-df-convert:hover {\n",
              "      background-color: #E2EBFA;\n",
              "      box-shadow: 0px 1px 2px rgba(60, 64, 67, 0.3), 0px 1px 3px 1px rgba(60, 64, 67, 0.15);\n",
              "      fill: #174EA6;\n",
              "    }\n",
              "\n",
              "    [theme=dark] .colab-df-convert {\n",
              "      background-color: #3B4455;\n",
              "      fill: #D2E3FC;\n",
              "    }\n",
              "\n",
              "    [theme=dark] .colab-df-convert:hover {\n",
              "      background-color: #434B5C;\n",
              "      box-shadow: 0px 1px 3px 1px rgba(0, 0, 0, 0.15);\n",
              "      filter: drop-shadow(0px 1px 2px rgba(0, 0, 0, 0.3));\n",
              "      fill: #FFFFFF;\n",
              "    }\n",
              "  </style>\n",
              "\n",
              "      <script>\n",
              "        const buttonEl =\n",
              "          document.querySelector('#df-9eb56086-5262-4769-b6e1-fe17d7be412c button.colab-df-convert');\n",
              "        buttonEl.style.display =\n",
              "          google.colab.kernel.accessAllowed ? 'block' : 'none';\n",
              "\n",
              "        async function convertToInteractive(key) {\n",
              "          const element = document.querySelector('#df-9eb56086-5262-4769-b6e1-fe17d7be412c');\n",
              "          const dataTable =\n",
              "            await google.colab.kernel.invokeFunction('convertToInteractive',\n",
              "                                                     [key], {});\n",
              "          if (!dataTable) return;\n",
              "\n",
              "          const docLinkHtml = 'Like what you see? Visit the ' +\n",
              "            '<a target=\"_blank\" href=https://colab.research.google.com/notebooks/data_table.ipynb>data table notebook</a>'\n",
              "            + ' to learn more about interactive tables.';\n",
              "          element.innerHTML = '';\n",
              "          dataTable['output_type'] = 'display_data';\n",
              "          await google.colab.output.renderOutput(dataTable, element);\n",
              "          const docLink = document.createElement('div');\n",
              "          docLink.innerHTML = docLinkHtml;\n",
              "          element.appendChild(docLink);\n",
              "        }\n",
              "      </script>\n",
              "    </div>\n",
              "  </div>\n",
              "  "
            ]
          },
          "metadata": {},
          "execution_count": 18
        }
      ]
    },
    {
      "cell_type": "code",
      "source": [
        "test_data.head(5)"
      ],
      "metadata": {
        "colab": {
          "base_uri": "https://localhost:8080/",
          "height": 206
        },
        "id": "FWsSlGmg31tI",
        "outputId": "ee769501-8f5c-4c31-e582-576435a1fc5c"
      },
      "execution_count": 19,
      "outputs": [
        {
          "output_type": "execute_result",
          "data": {
            "text/plain": [
              "         target                                               text\n",
              "0   atis_flight   i would like to find a flight from charlotte ...\n",
              "1  atis_airfare   on april first i need a ticket from tacoma to...\n",
              "2   atis_flight   on april first i need a flight going from pho...\n",
              "3   atis_flight   i would like a flight traveling one way from ...\n",
              "4   atis_flight   i would like a flight from orlando to salt la..."
            ],
            "text/html": [
              "\n",
              "  <div id=\"df-90222256-b225-499b-a7eb-d163c0ffdb4f\">\n",
              "    <div class=\"colab-df-container\">\n",
              "      <div>\n",
              "<style scoped>\n",
              "    .dataframe tbody tr th:only-of-type {\n",
              "        vertical-align: middle;\n",
              "    }\n",
              "\n",
              "    .dataframe tbody tr th {\n",
              "        vertical-align: top;\n",
              "    }\n",
              "\n",
              "    .dataframe thead th {\n",
              "        text-align: right;\n",
              "    }\n",
              "</style>\n",
              "<table border=\"1\" class=\"dataframe\">\n",
              "  <thead>\n",
              "    <tr style=\"text-align: right;\">\n",
              "      <th></th>\n",
              "      <th>target</th>\n",
              "      <th>text</th>\n",
              "    </tr>\n",
              "  </thead>\n",
              "  <tbody>\n",
              "    <tr>\n",
              "      <th>0</th>\n",
              "      <td>atis_flight</td>\n",
              "      <td>i would like to find a flight from charlotte ...</td>\n",
              "    </tr>\n",
              "    <tr>\n",
              "      <th>1</th>\n",
              "      <td>atis_airfare</td>\n",
              "      <td>on april first i need a ticket from tacoma to...</td>\n",
              "    </tr>\n",
              "    <tr>\n",
              "      <th>2</th>\n",
              "      <td>atis_flight</td>\n",
              "      <td>on april first i need a flight going from pho...</td>\n",
              "    </tr>\n",
              "    <tr>\n",
              "      <th>3</th>\n",
              "      <td>atis_flight</td>\n",
              "      <td>i would like a flight traveling one way from ...</td>\n",
              "    </tr>\n",
              "    <tr>\n",
              "      <th>4</th>\n",
              "      <td>atis_flight</td>\n",
              "      <td>i would like a flight from orlando to salt la...</td>\n",
              "    </tr>\n",
              "  </tbody>\n",
              "</table>\n",
              "</div>\n",
              "      <button class=\"colab-df-convert\" onclick=\"convertToInteractive('df-90222256-b225-499b-a7eb-d163c0ffdb4f')\"\n",
              "              title=\"Convert this dataframe to an interactive table.\"\n",
              "              style=\"display:none;\">\n",
              "        \n",
              "  <svg xmlns=\"http://www.w3.org/2000/svg\" height=\"24px\"viewBox=\"0 0 24 24\"\n",
              "       width=\"24px\">\n",
              "    <path d=\"M0 0h24v24H0V0z\" fill=\"none\"/>\n",
              "    <path d=\"M18.56 5.44l.94 2.06.94-2.06 2.06-.94-2.06-.94-.94-2.06-.94 2.06-2.06.94zm-11 1L8.5 8.5l.94-2.06 2.06-.94-2.06-.94L8.5 2.5l-.94 2.06-2.06.94zm10 10l.94 2.06.94-2.06 2.06-.94-2.06-.94-.94-2.06-.94 2.06-2.06.94z\"/><path d=\"M17.41 7.96l-1.37-1.37c-.4-.4-.92-.59-1.43-.59-.52 0-1.04.2-1.43.59L10.3 9.45l-7.72 7.72c-.78.78-.78 2.05 0 2.83L4 21.41c.39.39.9.59 1.41.59.51 0 1.02-.2 1.41-.59l7.78-7.78 2.81-2.81c.8-.78.8-2.07 0-2.86zM5.41 20L4 18.59l7.72-7.72 1.47 1.35L5.41 20z\"/>\n",
              "  </svg>\n",
              "      </button>\n",
              "      \n",
              "  <style>\n",
              "    .colab-df-container {\n",
              "      display:flex;\n",
              "      flex-wrap:wrap;\n",
              "      gap: 12px;\n",
              "    }\n",
              "\n",
              "    .colab-df-convert {\n",
              "      background-color: #E8F0FE;\n",
              "      border: none;\n",
              "      border-radius: 50%;\n",
              "      cursor: pointer;\n",
              "      display: none;\n",
              "      fill: #1967D2;\n",
              "      height: 32px;\n",
              "      padding: 0 0 0 0;\n",
              "      width: 32px;\n",
              "    }\n",
              "\n",
              "    .colab-df-convert:hover {\n",
              "      background-color: #E2EBFA;\n",
              "      box-shadow: 0px 1px 2px rgba(60, 64, 67, 0.3), 0px 1px 3px 1px rgba(60, 64, 67, 0.15);\n",
              "      fill: #174EA6;\n",
              "    }\n",
              "\n",
              "    [theme=dark] .colab-df-convert {\n",
              "      background-color: #3B4455;\n",
              "      fill: #D2E3FC;\n",
              "    }\n",
              "\n",
              "    [theme=dark] .colab-df-convert:hover {\n",
              "      background-color: #434B5C;\n",
              "      box-shadow: 0px 1px 3px 1px rgba(0, 0, 0, 0.15);\n",
              "      filter: drop-shadow(0px 1px 2px rgba(0, 0, 0, 0.3));\n",
              "      fill: #FFFFFF;\n",
              "    }\n",
              "  </style>\n",
              "\n",
              "      <script>\n",
              "        const buttonEl =\n",
              "          document.querySelector('#df-90222256-b225-499b-a7eb-d163c0ffdb4f button.colab-df-convert');\n",
              "        buttonEl.style.display =\n",
              "          google.colab.kernel.accessAllowed ? 'block' : 'none';\n",
              "\n",
              "        async function convertToInteractive(key) {\n",
              "          const element = document.querySelector('#df-90222256-b225-499b-a7eb-d163c0ffdb4f');\n",
              "          const dataTable =\n",
              "            await google.colab.kernel.invokeFunction('convertToInteractive',\n",
              "                                                     [key], {});\n",
              "          if (!dataTable) return;\n",
              "\n",
              "          const docLinkHtml = 'Like what you see? Visit the ' +\n",
              "            '<a target=\"_blank\" href=https://colab.research.google.com/notebooks/data_table.ipynb>data table notebook</a>'\n",
              "            + ' to learn more about interactive tables.';\n",
              "          element.innerHTML = '';\n",
              "          dataTable['output_type'] = 'display_data';\n",
              "          await google.colab.output.renderOutput(dataTable, element);\n",
              "          const docLink = document.createElement('div');\n",
              "          docLink.innerHTML = docLinkHtml;\n",
              "          element.appendChild(docLink);\n",
              "        }\n",
              "      </script>\n",
              "    </div>\n",
              "  </div>\n",
              "  "
            ]
          },
          "metadata": {},
          "execution_count": 19
        }
      ]
    },
    {
      "cell_type": "code",
      "source": [
        "  nunique = test_data.nunique()\n",
        "  nunique"
      ],
      "metadata": {
        "colab": {
          "base_uri": "https://localhost:8080/"
        },
        "id": "VNDdvjQT35gV",
        "outputId": "ee71a3c2-c127-480c-be0b-83e3bbe3cb6c"
      },
      "execution_count": 20,
      "outputs": [
        {
          "output_type": "execute_result",
          "data": {
            "text/plain": [
              "target      8\n",
              "text      763\n",
              "dtype: int64"
            ]
          },
          "metadata": {},
          "execution_count": 20
        }
      ]
    },
    {
      "cell_type": "code",
      "source": [
        "plotPerColumnDistribution(test_data, 10, 5)"
      ],
      "metadata": {
        "colab": {
          "base_uri": "https://localhost:8080/",
          "height": 650
        },
        "id": "QrEDp7Fc3_gY",
        "outputId": "4a451a0d-50f3-4972-d6a7-728b07f39a21"
      },
      "execution_count": 21,
      "outputs": [
        {
          "output_type": "display_data",
          "data": {
            "text/plain": [
              "<Figure size 2400x640 with 1 Axes>"
            ],
            "image/png": "[encoded data removed]"
          },
          "metadata": {}
        }
      ]
    },
    {
      "cell_type": "code",
      "source": [
        "train_data= train_data.append(train_data.loc[train_data.target.isin([\"atis_flight_time\", \"atis_quantity\"]), :])"
      ],
      "metadata": {
        "colab": {
          "base_uri": "https://localhost:8080/"
        },
        "id": "ZE1zqrrB4KUk",
        "outputId": "da855dbe-2a19-49f4-c00e-5e7d40174d22"
      },
      "execution_count": 22,
      "outputs": [
        {
          "output_type": "stream",
          "name": "stderr",
          "text": [
            "<ipython-input-22-c6517fcde83d>:1: FutureWarning: The frame.append method is deprecated and will be removed from pandas in a future version. Use pandas.concat instead.\n",
            "  train_data= train_data.append(train_data.loc[train_data.target.isin([\"atis_flight_time\", \"atis_quantity\"]), :])\n"
          ]
        }
      ]
    },
    {
      "cell_type": "code",
      "source": [
        "from sklearn.preprocessing import OneHotEncoder as OHE\n",
        "import nltk\n",
        "from nltk import word_tokenize\n",
        "from nltk.corpus import stopwords\n",
        "from nltk.stem import PorterStemmer\n",
        "from string import punctuation\n",
        "from tensorflow.keras.preprocessing.text import Tokenizer\n",
        "nltk.download('punkt')\n",
        "nltk.download('stopwords')\n",
        "from tensorflow.keras.preprocessing.sequence import pad_sequences\n",
        "\n",
        "\n",
        "def normalize(text):\n",
        "    return \" \".join(text)\n",
        "\n",
        "def remove_stop(strings, stop_list):\n",
        "    classed= [s for s in strings if s not in stop_list]\n",
        "    return classed\n",
        "\n",
        "y_encoder= OHE().fit(np.array(train_data.target).reshape(-1,1))\n",
        "ytr_encoded= y_encoder.transform(np.array(train_data.target).reshape(-1,1)).toarray()\n",
        "yts_encoded= y_encoder.transform(np.array(test_data.target).reshape(-1,1)).toarray()\n",
        "\n",
        "train_data[\"lower_text\"]= train_data.text.map(lambda x: x.lower())\n",
        "test_data[\"lower_text\"]= test_data.text.map(lambda x: x.lower())\n",
        "train_data[\"tokenized\"]= train_data.lower_text.map(word_tokenize)\n",
        "test_data[\"tokenized\"]= test_data.lower_text.map(word_tokenize)\n",
        "\n",
        "stop= stopwords.words(\"english\")\n",
        "stop_punc= list(set(punctuation))+ stop\n",
        "\n",
        "train_data[\"selected\"]= train_data.tokenized.map(lambda df: remove_stop(df, stop_punc))\n",
        "test_data[\"selected\"]= test_data.tokenized.map(lambda df: remove_stop(df, stop_punc))\n",
        "\n",
        "stemmer= PorterStemmer()\n",
        "\n",
        "train_data[\"stemmed\"]= train_data.selected.map(lambda xs: [stemmer.stem(x) for x in xs])\n",
        "train_data[\"normalized\"]= train_data.stemmed.apply(normalize)\n",
        "\n",
        "test_data[\"stemmed\"]= test_data.selected.map(lambda xs: [stemmer.stem(x) for x in xs])\n",
        "test_data[\"normalized\"]= test_data.stemmed.apply(normalize)\n",
        "\n",
        "tokenizer= Tokenizer(num_words= 10000)\n",
        "tokenizer.fit_on_texts(train_data.normalized)\n",
        "\n",
        "tokenized_train= tokenizer.texts_to_sequences(train_data.normalized)\n",
        "tokenized_test= tokenizer.texts_to_sequences(test_data.normalized)\n",
        "\n",
        "tokenizer.word_index.keys().__len__()\n",
        "\n",
        "train_padded= pad_sequences(tokenized_train, maxlen= 20, padding= \"pre\")\n",
        "test_padded= pad_sequences(tokenized_test, maxlen= 20, padding= \"pre\")"
      ],
      "metadata": {
        "colab": {
          "base_uri": "https://localhost:8080/"
        },
        "id": "uWz-JoHX8iA9",
        "outputId": "a9088e58-096a-4f24-9013-52a2ea702a10"
      },
      "execution_count": 23,
      "outputs": [
        {
          "output_type": "stream",
          "name": "stderr",
          "text": [
            "[nltk_data] Downloading package punkt to /root/nltk_data...\n",
            "[nltk_data]   Unzipping tokenizers/punkt.zip.\n",
            "[nltk_data] Downloading package stopwords to /root/nltk_data...\n",
            "[nltk_data]   Unzipping corpora/stopwords.zip.\n"
          ]
        }
      ]
    },
    {
      "cell_type": "code",
      "source": [
        "train_padded.shape"
      ],
      "metadata": {
        "colab": {
          "base_uri": "https://localhost:8080/"
        },
        "id": "8zHxsHkn_DQV",
        "outputId": "5cf55563-f89a-4982-b0f5-c05e9a08deb3"
      },
      "execution_count": 24,
      "outputs": [
        {
          "output_type": "execute_result",
          "data": {
            "text/plain": [
              "(4939, 20)"
            ]
          },
          "metadata": {},
          "execution_count": 24
        }
      ]
    },
    {
      "cell_type": "code",
      "source": [
        "def transform_x(data, tokenizer):\n",
        "    output_shape= [data.shape[0],\n",
        "                  data.shape[1],\n",
        "                  tokenizer.word_index.keys().__len__()]\n",
        "    results= np.zeros(output_shape)\n",
        "    \n",
        "    for i in range(data.shape[0]):\n",
        "        for ii in range(data.shape[1]):\n",
        "            results[i, ii, data[i,ii]-1]= 1\n",
        "    return results\n",
        "\n",
        "xtr_transformed= transform_x(train_padded, tokenizer)\n",
        "xts_transformed= transform_x(test_padded, tokenizer)\n"
      ],
      "metadata": {
        "id": "_Psd0_xW8qPf"
      },
      "execution_count": 25,
      "outputs": []
    },
    {
      "cell_type": "code",
      "source": [
        "from tensorflow.keras.layers import Dense, LSTM, BatchNormalization, Dropout, Input\n",
        "from tensorflow.keras.optimizers import Adam\n",
        "from tensorflow.keras.losses import CategoricalCrossentropy as CC\n",
        "from tensorflow.keras.activations import relu, softmax\n",
        "from tensorflow.keras.initializers import he_uniform, glorot_uniform\n",
        "from tensorflow.keras.metrics import AUC\n",
        "from tensorflow.keras import Model\n",
        "from tensorflow.keras.regularizers import l2\n",
        "\n",
        "\n",
        "class LSTMModel(object):\n",
        "    \n",
        "    def build_model(self, input_dim, output_shape, steps, dropout_rate, kernel_regularizer, bias_regularizer):\n",
        "        input_layer= Input(shape= (steps, input_dim))\n",
        "        \n",
        "        #make lstm_layer\n",
        "        lstm= LSTM(units= steps)(input_layer)\n",
        "        dense_1= Dense(output_shape, kernel_initializer= he_uniform(),\n",
        "                       bias_initializer= \"zeros\", \n",
        "                       kernel_regularizer= l2(l= kernel_regularizer),\n",
        "                       bias_regularizer= l2(l= bias_regularizer))(lstm)\n",
        "        x= BatchNormalization()(dense_1)\n",
        "        x= relu(x)\n",
        "        x= Dropout(rate= dropout_rate)(x)\n",
        "        o= Dense(output_shape, kernel_initializer= glorot_uniform(),\n",
        "                 bias_initializer= \"zeros\", \n",
        "                 kernel_regularizer= l2(l= kernel_regularizer), \n",
        "                 bias_regularizer= l2(l= bias_regularizer))(dense_1)\n",
        "        o= BatchNormalization()(o)\n",
        "        output= softmax(o, axis= 1)\n",
        "        \n",
        "        loss= CC()\n",
        "        metrics= AUC()\n",
        "        optimizer= Adam()\n",
        "        self.model= Model(inputs= [input_layer], outputs= [output])\n",
        "        self.model.compile(optimizer= optimizer, loss= loss, metrics= [metrics])\n",
        "        \n",
        "        \n",
        "    def train(self, x, y, validation_split, epochs):\n",
        "        self.model.fit(x, y, validation_split= validation_split, epochs= epochs)\n",
        "        \n",
        "    def predict(self, x):\n",
        "        return self.model.predict(x)"
      ],
      "metadata": {
        "id": "7YRBsbyU_VD7"
      },
      "execution_count": 26,
      "outputs": []
    },
    {
      "cell_type": "code",
      "source": [
        "steps= xtr_transformed.shape[1]\n",
        "dim= xtr_transformed.shape[2]\n",
        "output_shape= ytr_encoded.shape[1]\n",
        "\n",
        "model= LSTMModel()\n",
        "model.build_model(input_dim= dim,\n",
        "                  output_shape= output_shape,\n",
        "                  steps= steps, \n",
        "                  dropout_rate= 0.5, \n",
        "                  bias_regularizer= 0.3, \n",
        "                  kernel_regularizer= 0.3)"
      ],
      "metadata": {
        "id": "MqrZo71u_Yw5"
      },
      "execution_count": 27,
      "outputs": []
    },
    {
      "cell_type": "code",
      "source": [
        "model.train(xtr_transformed, ytr_encoded,\n",
        "           0.2, 100)"
      ],
      "metadata": {
        "colab": {
          "base_uri": "https://localhost:8080/"
        },
        "id": "gW-Id2vA_bqp",
        "outputId": "bacdd216-a3ed-4d7b-eb5f-73cecf10b0ec"
      },
      "execution_count": 28,
      "outputs": [
        {
          "output_type": "stream",
          "name": "stdout",
          "text": [
            "Epoch 1/100\n",
            "124/124 [==============================] - 13s 13ms/step - loss: 6.8924 - auc: 0.7734 - val_loss: 5.5852 - val_auc: 0.7672\n",
            "Epoch 2/100\n",
            "124/124 [==============================] - 1s 7ms/step - loss: 3.8726 - auc: 0.9464 - val_loss: 3.3597 - val_auc: 0.9687\n",
            "Epoch 3/100\n",
            "124/124 [==============================] - 1s 8ms/step - loss: 2.3140 - auc: 0.9775 - val_loss: 2.0556 - val_auc: 0.9845\n",
            "Epoch 4/100\n",
            "124/124 [==============================] - 1s 8ms/step - loss: 1.5157 - auc: 0.9867 - val_loss: 1.3735 - val_auc: 0.9878\n",
            "Epoch 5/100\n",
            "124/124 [==============================] - 1s 9ms/step - loss: 1.0989 - auc: 0.9923 - val_loss: 1.0654 - val_auc: 0.9878\n",
            "Epoch 6/100\n",
            "124/124 [==============================] - 2s 12ms/step - loss: 0.8840 - auc: 0.9947 - val_loss: 0.8689 - val_auc: 0.9859\n",
            "Epoch 7/100\n",
            "124/124 [==============================] - 1s 9ms/step - loss: 0.7552 - auc: 0.9949 - val_loss: 0.8197 - val_auc: 0.9822\n",
            "Epoch 8/100\n",
            "124/124 [==============================] - 1s 8ms/step - loss: 0.6813 - auc: 0.9965 - val_loss: 0.7288 - val_auc: 0.9870\n",
            "Epoch 9/100\n",
            "124/124 [==============================] - 1s 7ms/step - loss: 0.6012 - auc: 0.9973 - val_loss: 0.7343 - val_auc: 0.9849\n",
            "Epoch 10/100\n",
            "124/124 [==============================] - 1s 7ms/step - loss: 0.5487 - auc: 0.9974 - val_loss: 0.6415 - val_auc: 0.9882\n",
            "Epoch 11/100\n",
            "124/124 [==============================] - 1s 7ms/step - loss: 0.4965 - auc: 0.9985 - val_loss: 0.6414 - val_auc: 0.9873\n",
            "Epoch 12/100\n",
            "124/124 [==============================] - 1s 8ms/step - loss: 0.4611 - auc: 0.9985 - val_loss: 0.6083 - val_auc: 0.9889\n",
            "Epoch 13/100\n",
            "124/124 [==============================] - 1s 10ms/step - loss: 0.4276 - auc: 0.9986 - val_loss: 0.6141 - val_auc: 0.9877\n",
            "Epoch 14/100\n",
            "124/124 [==============================] - 2s 13ms/step - loss: 0.3957 - auc: 0.9989 - val_loss: 0.5261 - val_auc: 0.9912\n",
            "Epoch 15/100\n",
            "124/124 [==============================] - 2s 13ms/step - loss: 0.3698 - auc: 0.9992 - val_loss: 0.5088 - val_auc: 0.9909\n",
            "Epoch 16/100\n",
            "124/124 [==============================] - 2s 15ms/step - loss: 0.3467 - auc: 0.9994 - val_loss: 0.4828 - val_auc: 0.9916\n",
            "Epoch 17/100\n",
            "124/124 [==============================] - 2s 15ms/step - loss: 0.3301 - auc: 0.9992 - val_loss: 0.4632 - val_auc: 0.9917\n",
            "Epoch 18/100\n",
            "124/124 [==============================] - 2s 14ms/step - loss: 0.3134 - auc: 0.9995 - val_loss: 0.4649 - val_auc: 0.9914\n",
            "Epoch 19/100\n",
            "124/124 [==============================] - 2s 13ms/step - loss: 0.2938 - auc: 0.9993 - val_loss: 0.4199 - val_auc: 0.9929\n",
            "Epoch 20/100\n",
            "124/124 [==============================] - 2s 14ms/step - loss: 0.2822 - auc: 0.9995 - val_loss: 0.3871 - val_auc: 0.9939\n",
            "Epoch 21/100\n",
            "124/124 [==============================] - 1s 12ms/step - loss: 0.2617 - auc: 0.9996 - val_loss: 0.3776 - val_auc: 0.9937\n",
            "Epoch 22/100\n",
            "124/124 [==============================] - 1s 12ms/step - loss: 0.2507 - auc: 0.9997 - val_loss: 0.3813 - val_auc: 0.9935\n",
            "Epoch 23/100\n",
            "124/124 [==============================] - 2s 15ms/step - loss: 0.2408 - auc: 0.9997 - val_loss: 0.3727 - val_auc: 0.9936\n",
            "Epoch 24/100\n",
            "124/124 [==============================] - 2s 17ms/step - loss: 0.2330 - auc: 0.9996 - val_loss: 0.3633 - val_auc: 0.9945\n",
            "Epoch 25/100\n",
            "124/124 [==============================] - 1s 11ms/step - loss: 0.2199 - auc: 0.9997 - val_loss: 0.3570 - val_auc: 0.9934\n",
            "Epoch 26/100\n",
            "124/124 [==============================] - 1s 8ms/step - loss: 0.2147 - auc: 0.9997 - val_loss: 0.3297 - val_auc: 0.9942\n",
            "Epoch 27/100\n",
            "124/124 [==============================] - 1s 7ms/step - loss: 0.2048 - auc: 0.9998 - val_loss: 0.3293 - val_auc: 0.9939\n",
            "Epoch 28/100\n",
            "124/124 [==============================] - 1s 8ms/step - loss: 0.1976 - auc: 0.9998 - val_loss: 0.3227 - val_auc: 0.9943\n",
            "Epoch 29/100\n",
            "124/124 [==============================] - 1s 8ms/step - loss: 0.1924 - auc: 0.9998 - val_loss: 0.3220 - val_auc: 0.9942\n",
            "Epoch 30/100\n",
            "124/124 [==============================] - 1s 7ms/step - loss: 0.1872 - auc: 0.9999 - val_loss: 0.3204 - val_auc: 0.9948\n",
            "Epoch 31/100\n",
            "124/124 [==============================] - 1s 7ms/step - loss: 0.1800 - auc: 0.9999 - val_loss: 0.3095 - val_auc: 0.9943\n",
            "Epoch 32/100\n",
            "124/124 [==============================] - 1s 8ms/step - loss: 0.1753 - auc: 0.9999 - val_loss: 0.3046 - val_auc: 0.9946\n",
            "Epoch 33/100\n",
            "124/124 [==============================] - 1s 11ms/step - loss: 0.1687 - auc: 0.9998 - val_loss: 0.2971 - val_auc: 0.9943\n",
            "Epoch 34/100\n",
            "124/124 [==============================] - 2s 14ms/step - loss: 0.1649 - auc: 0.9998 - val_loss: 0.2930 - val_auc: 0.9952\n",
            "Epoch 35/100\n",
            "124/124 [==============================] - 2s 15ms/step - loss: 0.1641 - auc: 0.9998 - val_loss: 0.2948 - val_auc: 0.9945\n",
            "Epoch 36/100\n",
            "124/124 [==============================] - 1s 9ms/step - loss: 0.1650 - auc: 0.9998 - val_loss: 0.2871 - val_auc: 0.9951\n",
            "Epoch 37/100\n",
            "124/124 [==============================] - 1s 7ms/step - loss: 0.1538 - auc: 0.9999 - val_loss: 0.2774 - val_auc: 0.9950\n",
            "Epoch 38/100\n",
            "124/124 [==============================] - 1s 7ms/step - loss: 0.1489 - auc: 0.9998 - val_loss: 0.2780 - val_auc: 0.9955\n",
            "Epoch 39/100\n",
            "124/124 [==============================] - 1s 8ms/step - loss: 0.1477 - auc: 0.9998 - val_loss: 0.2782 - val_auc: 0.9951\n",
            "Epoch 40/100\n",
            "124/124 [==============================] - 1s 7ms/step - loss: 0.1431 - auc: 0.9999 - val_loss: 0.2772 - val_auc: 0.9951\n",
            "Epoch 41/100\n",
            "124/124 [==============================] - 1s 7ms/step - loss: 0.1407 - auc: 0.9998 - val_loss: 0.2676 - val_auc: 0.9952\n",
            "Epoch 42/100\n",
            "124/124 [==============================] - 1s 8ms/step - loss: 0.1376 - auc: 0.9999 - val_loss: 0.2637 - val_auc: 0.9953\n",
            "Epoch 43/100\n",
            "124/124 [==============================] - 1s 7ms/step - loss: 0.1346 - auc: 0.9999 - val_loss: 0.2639 - val_auc: 0.9953\n",
            "Epoch 44/100\n",
            "124/124 [==============================] - 1s 8ms/step - loss: 0.1348 - auc: 0.9998 - val_loss: 0.2620 - val_auc: 0.9951\n",
            "Epoch 45/100\n",
            "124/124 [==============================] - 1s 7ms/step - loss: 0.1273 - auc: 0.9999 - val_loss: 0.2695 - val_auc: 0.9947\n",
            "Epoch 46/100\n",
            "124/124 [==============================] - 1s 11ms/step - loss: 0.1270 - auc: 0.9999 - val_loss: 0.2590 - val_auc: 0.9949\n",
            "Epoch 47/100\n",
            "124/124 [==============================] - 1s 10ms/step - loss: 0.1239 - auc: 0.9999 - val_loss: 0.2512 - val_auc: 0.9954\n",
            "Epoch 48/100\n",
            "124/124 [==============================] - 1s 8ms/step - loss: 0.1206 - auc: 0.9999 - val_loss: 0.2532 - val_auc: 0.9951\n",
            "Epoch 49/100\n",
            "124/124 [==============================] - 1s 8ms/step - loss: 0.1195 - auc: 0.9999 - val_loss: 0.2499 - val_auc: 0.9949\n",
            "Epoch 50/100\n",
            "124/124 [==============================] - 1s 7ms/step - loss: 0.1159 - auc: 0.9999 - val_loss: 0.2549 - val_auc: 0.9943\n",
            "Epoch 51/100\n",
            "124/124 [==============================] - 1s 7ms/step - loss: 0.1138 - auc: 0.9999 - val_loss: 0.2512 - val_auc: 0.9949\n",
            "Epoch 52/100\n",
            "124/124 [==============================] - 1s 8ms/step - loss: 0.1171 - auc: 0.9999 - val_loss: 0.2513 - val_auc: 0.9946\n",
            "Epoch 53/100\n",
            "124/124 [==============================] - 1s 7ms/step - loss: 0.1119 - auc: 0.9999 - val_loss: 0.2402 - val_auc: 0.9950\n",
            "Epoch 54/100\n",
            "124/124 [==============================] - 1s 8ms/step - loss: 0.1102 - auc: 0.9999 - val_loss: 0.2320 - val_auc: 0.9952\n",
            "Epoch 55/100\n",
            "124/124 [==============================] - 1s 8ms/step - loss: 0.1078 - auc: 0.9999 - val_loss: 0.2332 - val_auc: 0.9953\n",
            "Epoch 56/100\n",
            "124/124 [==============================] - 1s 7ms/step - loss: 0.1116 - auc: 0.9999 - val_loss: 0.2391 - val_auc: 0.9952\n",
            "Epoch 57/100\n",
            "124/124 [==============================] - 1s 8ms/step - loss: 0.1055 - auc: 0.9999 - val_loss: 0.2384 - val_auc: 0.9951\n",
            "Epoch 58/100\n",
            "124/124 [==============================] - 1s 9ms/step - loss: 0.1025 - auc: 0.9999 - val_loss: 0.2267 - val_auc: 0.9957\n",
            "Epoch 59/100\n",
            "124/124 [==============================] - 1s 9ms/step - loss: 0.1006 - auc: 0.9999 - val_loss: 0.2236 - val_auc: 0.9953\n",
            "Epoch 60/100\n",
            "124/124 [==============================] - 1s 9ms/step - loss: 0.0987 - auc: 1.0000 - val_loss: 0.2123 - val_auc: 0.9955\n",
            "Epoch 61/100\n",
            "124/124 [==============================] - 1s 7ms/step - loss: 0.0967 - auc: 1.0000 - val_loss: 0.2086 - val_auc: 0.9959\n",
            "Epoch 62/100\n",
            "124/124 [==============================] - 1s 7ms/step - loss: 0.0965 - auc: 1.0000 - val_loss: 0.1953 - val_auc: 0.9951\n",
            "Epoch 63/100\n",
            "124/124 [==============================] - 1s 7ms/step - loss: 0.0926 - auc: 1.0000 - val_loss: 0.2094 - val_auc: 0.9962\n",
            "Epoch 64/100\n",
            "124/124 [==============================] - 1s 8ms/step - loss: 0.0982 - auc: 0.9999 - val_loss: 0.2056 - val_auc: 0.9954\n",
            "Epoch 65/100\n",
            "124/124 [==============================] - 1s 8ms/step - loss: 0.0938 - auc: 1.0000 - val_loss: 0.2494 - val_auc: 0.9938\n",
            "Epoch 66/100\n",
            "124/124 [==============================] - 1s 8ms/step - loss: 0.0974 - auc: 0.9998 - val_loss: 0.2086 - val_auc: 0.9959\n",
            "Epoch 67/100\n",
            "124/124 [==============================] - 1s 8ms/step - loss: 0.0893 - auc: 1.0000 - val_loss: 0.1849 - val_auc: 0.9952\n",
            "Epoch 68/100\n",
            "124/124 [==============================] - 1s 8ms/step - loss: 0.0843 - auc: 1.0000 - val_loss: 0.1926 - val_auc: 0.9956\n",
            "Epoch 69/100\n",
            "124/124 [==============================] - 1s 7ms/step - loss: 0.0839 - auc: 1.0000 - val_loss: 0.1779 - val_auc: 0.9952\n",
            "Epoch 70/100\n",
            "124/124 [==============================] - 1s 8ms/step - loss: 0.0814 - auc: 1.0000 - val_loss: 0.1841 - val_auc: 0.9951\n",
            "Epoch 71/100\n",
            "124/124 [==============================] - 1s 10ms/step - loss: 0.0799 - auc: 1.0000 - val_loss: 0.1769 - val_auc: 0.9952\n",
            "Epoch 72/100\n",
            "124/124 [==============================] - 1s 9ms/step - loss: 0.0787 - auc: 1.0000 - val_loss: 0.1811 - val_auc: 0.9951\n",
            "Epoch 73/100\n",
            "124/124 [==============================] - 1s 8ms/step - loss: 0.0803 - auc: 1.0000 - val_loss: 0.1679 - val_auc: 0.9953\n",
            "Epoch 74/100\n",
            "124/124 [==============================] - 1s 8ms/step - loss: 0.0779 - auc: 1.0000 - val_loss: 0.1688 - val_auc: 0.9954\n",
            "Epoch 75/100\n",
            "124/124 [==============================] - 1s 12ms/step - loss: 0.0758 - auc: 1.0000 - val_loss: 0.1680 - val_auc: 0.9953\n",
            "Epoch 76/100\n",
            "124/124 [==============================] - 1s 11ms/step - loss: 0.0747 - auc: 1.0000 - val_loss: 0.1674 - val_auc: 0.9953\n",
            "Epoch 77/100\n",
            "124/124 [==============================] - 1s 8ms/step - loss: 0.0758 - auc: 0.9998 - val_loss: 0.1627 - val_auc: 0.9954\n",
            "Epoch 78/100\n",
            "124/124 [==============================] - 1s 7ms/step - loss: 0.0729 - auc: 1.0000 - val_loss: 0.1644 - val_auc: 0.9953\n",
            "Epoch 79/100\n",
            "124/124 [==============================] - 1s 8ms/step - loss: 0.0727 - auc: 1.0000 - val_loss: 0.1569 - val_auc: 0.9953\n",
            "Epoch 80/100\n",
            "124/124 [==============================] - 1s 7ms/step - loss: 0.0744 - auc: 1.0000 - val_loss: 0.1574 - val_auc: 0.9954\n",
            "Epoch 81/100\n",
            "124/124 [==============================] - 1s 8ms/step - loss: 0.0714 - auc: 1.0000 - val_loss: 0.1705 - val_auc: 0.9953\n",
            "Epoch 82/100\n",
            "124/124 [==============================] - 1s 10ms/step - loss: 0.0708 - auc: 1.0000 - val_loss: 0.1633 - val_auc: 0.9953\n",
            "Epoch 83/100\n",
            "124/124 [==============================] - 1s 10ms/step - loss: 0.0690 - auc: 1.0000 - val_loss: 0.1549 - val_auc: 0.9954\n",
            "Epoch 84/100\n",
            "124/124 [==============================] - 1s 8ms/step - loss: 0.0875 - auc: 0.9994 - val_loss: 0.1720 - val_auc: 0.9955\n",
            "Epoch 85/100\n",
            "124/124 [==============================] - 1s 8ms/step - loss: 0.0696 - auc: 1.0000 - val_loss: 0.1469 - val_auc: 0.9959\n",
            "Epoch 86/100\n",
            "124/124 [==============================] - 1s 8ms/step - loss: 0.0674 - auc: 1.0000 - val_loss: 0.1513 - val_auc: 0.9959\n",
            "Epoch 87/100\n",
            "124/124 [==============================] - 1s 8ms/step - loss: 0.0670 - auc: 1.0000 - val_loss: 0.1495 - val_auc: 0.9960\n",
            "Epoch 88/100\n",
            "124/124 [==============================] - 1s 8ms/step - loss: 0.0648 - auc: 1.0000 - val_loss: 0.1582 - val_auc: 0.9953\n",
            "Epoch 89/100\n",
            "124/124 [==============================] - 1s 8ms/step - loss: 0.0649 - auc: 1.0000 - val_loss: 0.1516 - val_auc: 0.9954\n",
            "Epoch 90/100\n",
            "124/124 [==============================] - 1s 8ms/step - loss: 0.0629 - auc: 1.0000 - val_loss: 0.1490 - val_auc: 0.9958\n",
            "Epoch 91/100\n",
            "124/124 [==============================] - 1s 7ms/step - loss: 0.0634 - auc: 1.0000 - val_loss: 0.1477 - val_auc: 0.9954\n",
            "Epoch 92/100\n",
            "124/124 [==============================] - 1s 9ms/step - loss: 0.0643 - auc: 1.0000 - val_loss: 0.1423 - val_auc: 0.9956\n",
            "Epoch 93/100\n",
            "124/124 [==============================] - 1s 9ms/step - loss: 0.0625 - auc: 1.0000 - val_loss: 0.1430 - val_auc: 0.9954\n",
            "Epoch 94/100\n",
            "124/124 [==============================] - 1s 11ms/step - loss: 0.0619 - auc: 1.0000 - val_loss: 0.1505 - val_auc: 0.9957\n",
            "Epoch 95/100\n",
            "124/124 [==============================] - 1s 9ms/step - loss: 0.0606 - auc: 1.0000 - val_loss: 0.1472 - val_auc: 0.9954\n",
            "Epoch 96/100\n",
            "124/124 [==============================] - 1s 8ms/step - loss: 0.0601 - auc: 1.0000 - val_loss: 0.1443 - val_auc: 0.9949\n",
            "Epoch 97/100\n",
            "124/124 [==============================] - 1s 8ms/step - loss: 0.0602 - auc: 1.0000 - val_loss: 0.1552 - val_auc: 0.9948\n",
            "Epoch 98/100\n",
            "124/124 [==============================] - 1s 8ms/step - loss: 0.0604 - auc: 1.0000 - val_loss: 0.1467 - val_auc: 0.9954\n",
            "Epoch 99/100\n",
            "124/124 [==============================] - 1s 8ms/step - loss: 0.0585 - auc: 1.0000 - val_loss: 0.1470 - val_auc: 0.9955\n",
            "Epoch 100/100\n",
            "124/124 [==============================] - 1s 8ms/step - loss: 0.0581 - auc: 1.0000 - val_loss: 0.1373 - val_auc: 0.9955\n"
          ]
        }
      ]
    },
    {
      "cell_type": "code",
      "source": [
        "from sklearn.metrics import confusion_matrix, ConfusionMatrixDisplay\n",
        "\n",
        "prediction= y_encoder.inverse_transform(model.predict(xtr_transformed))\n",
        "cm = confusion_matrix(train_data.target, prediction)"
      ],
      "metadata": {
        "colab": {
          "base_uri": "https://localhost:8080/"
        },
        "id": "FZDoWiwbEF24",
        "outputId": "eb0bdee2-8f56-4679-9f5d-e8203755dfbd"
      },
      "execution_count": 86,
      "outputs": [
        {
          "output_type": "stream",
          "name": "stdout",
          "text": [
            "155/155 [==============================] - 1s 4ms/step\n"
          ]
        }
      ]
    },
    {
      "cell_type": "code",
      "source": [
        "import seaborn as sns\n",
        "\n",
        "def conf_matrix(conf_mat,name):\n",
        "    group_names = ['True Pos Normal','False Neg','False Neg','False Neg',\n",
        "                   'False Neg','True Pos Lung','False Neg','False Neg',\n",
        "                   'False Neg','False Neg','True Pos Pneumonia','False Neg',\n",
        "                   'False Neg','False Neg','False Neg','True Pos COVID']\n",
        "    group_counts = [\"{0:0.0f}\".format(value) for value in\n",
        "                    conf_mat.flatten()]\n",
        "    print(group_counts)\n",
        "    group_percentages = [\"{0:.2%}\".format(value) for value in\n",
        "                         conf_mat.flatten()/np.sum(conf_mat)]\n",
        "    labels = [f\"{v1}\\n{v2}\\n{v3}\" for v1, v2, v3 in\n",
        "              zip(group_names,group_counts,group_percentages)]\n",
        "    # labels = np.asarray(labels).reshape(2,4)\n",
        "    labels = np.asarray(labels).repeat(4).reshape(8, 8)\n",
        "    fig, ax = plt.subplots(figsize=(10,10))\n",
        "    ax=sns.heatmap(conf_mat, annot=labels, fmt='',ax=ax)\n",
        "    ax.set_title(label=name+' Confussion Matrix')\n",
        "    ax.plot\n",
        "    fig.savefig(name+'_confussion.png')"
      ],
      "metadata": {
        "id": "TwRO8gVcEmVY"
      },
      "execution_count": 87,
      "outputs": []
    },
    {
      "cell_type": "code",
      "source": [
        "conf_matrix(cm,'Train')"
      ],
      "metadata": {
        "colab": {
          "base_uri": "https://localhost:8080/",
          "height": 890
        },
        "id": "75h7XaG_EuZx",
        "outputId": "61a77155-8725-4c9e-9fcc-5d11f02eb3d8"
      },
      "execution_count": 88,
      "outputs": [
        {
          "output_type": "stream",
          "name": "stdout",
          "text": [
            "['146', '0', '0', '1', '0', '0', '0', '0', '0', '80', '0', '0', '0', '0', '1', '0', '0', '0', '419', '0', '4', '0', '0', '0', '0', '0', '0', '155', '2', '0', '0', '0', '0', '1', '1', '1', '3662', '1', '0', '0', '0', '0', '0', '0', '2', '104', '2', '0', '0', '0', '0', '0', '0', '0', '255', '0', '0', '0', '0', '0', '0', '0', '0', '102']\n"
          ]
        },
        {
          "output_type": "display_data",
          "data": {
            "text/plain": [
              "<Figure size 1000x1000 with 2 Axes>"
            ],
            "image/png": "[encoded data removed]"
          },
          "metadata": {}
        }
      ]
    },
    {
      "cell_type": "code",
      "source": [
        "from sklearn.metrics import classification_report\n",
        "\n",
        "prediction= y_encoder.inverse_transform(model.predict(xtr_transformed))\n",
        "print(classification_report(train_data.target, prediction))"
      ],
      "metadata": {
        "colab": {
          "base_uri": "https://localhost:8080/"
        },
        "id": "8Q3Uhb5-CGeO",
        "outputId": "c199c3f0-c834-44c6-dbfe-05c1afc0a7f0"
      },
      "execution_count": 29,
      "outputs": [
        {
          "output_type": "stream",
          "name": "stdout",
          "text": [
            "155/155 [==============================] - 1s 4ms/step\n",
            "                     precision    recall  f1-score   support\n",
            "\n",
            "  atis_abbreviation       1.00      0.99      1.00       147\n",
            "      atis_aircraft       0.99      0.99      0.99        81\n",
            "       atis_airfare       1.00      0.99      0.99       423\n",
            "       atis_airline       0.99      0.99      0.99       157\n",
            "        atis_flight       1.00      1.00      1.00      3666\n",
            "   atis_flight_time       0.99      0.96      0.98       108\n",
            "atis_ground_service       0.99      1.00      0.99       255\n",
            "      atis_quantity       1.00      1.00      1.00       102\n",
            "\n",
            "           accuracy                           1.00      4939\n",
            "          macro avg       0.99      0.99      0.99      4939\n",
            "       weighted avg       1.00      1.00      1.00      4939\n",
            "\n"
          ]
        }
      ]
    },
    {
      "cell_type": "code",
      "source": [
        "train_data.target"
      ],
      "metadata": {
        "colab": {
          "base_uri": "https://localhost:8080/"
        },
        "id": "lilMngFLMn6t",
        "outputId": "45f8444f-3548-4e83-9580-6aeed3982249"
      },
      "execution_count": 81,
      "outputs": [
        {
          "output_type": "execute_result",
          "data": {
            "text/plain": [
              "0            atis_flight\n",
              "1            atis_flight\n",
              "2       atis_flight_time\n",
              "3           atis_airfare\n",
              "4           atis_airfare\n",
              "              ...       \n",
              "4186    atis_flight_time\n",
              "4194       atis_quantity\n",
              "4320    atis_flight_time\n",
              "4412    atis_flight_time\n",
              "4457    atis_flight_time\n",
              "Name: target, Length: 4939, dtype: object"
            ]
          },
          "metadata": {},
          "execution_count": 81
        }
      ]
    },
    {
      "cell_type": "code",
      "source": [
        "prediction_test= y_encoder.inverse_transform(model.predict(xts_transformed))\n",
        "cm = confusion_matrix(test_data.target, prediction_test)"
      ],
      "metadata": {
        "colab": {
          "base_uri": "https://localhost:8080/"
        },
        "id": "Ug416JCSLaLB",
        "outputId": "d883d595-3c3e-4550-f917-dfb80358dc04"
      },
      "execution_count": 89,
      "outputs": [
        {
          "output_type": "stream",
          "name": "stdout",
          "text": [
            "25/25 [==============================] - 0s 3ms/step\n"
          ]
        }
      ]
    },
    {
      "cell_type": "code",
      "source": [
        "conf_matrix(cm,'Test')"
      ],
      "metadata": {
        "colab": {
          "base_uri": "https://localhost:8080/",
          "height": 890
        },
        "id": "0iwmj4NyLOji",
        "outputId": "c3500910-8565-4689-f3a7-4c53e0ba0b52"
      },
      "execution_count": 90,
      "outputs": [
        {
          "output_type": "stream",
          "name": "stdout",
          "text": [
            "['33', '0', '0', '0', '0', '0', '0', '0', '0', '8', '0', '0', '1', '0', '0', '0', '0', '0', '44', '0', '4', '0', '0', '0', '0', '0', '0', '37', '1', '0', '0', '0', '0', '1', '2', '5', '617', '1', '2', '4', '0', '0', '0', '0', '0', '1', '0', '0', '0', '0', '0', '0', '2', '0', '34', '0', '0', '0', '0', '0', '0', '0', '0', '3']\n"
          ]
        },
        {
          "output_type": "display_data",
          "data": {
            "text/plain": [
              "<Figure size 1000x1000 with 2 Axes>"
            ],
            "image/png": "[encoded data removed]"
          },
          "metadata": {}
        }
      ]
    },
    {
      "cell_type": "code",
      "source": [
        "from sklearn.metrics import classification_report\n",
        "\n",
        "prediction_test= y_encoder.inverse_transform(model.predict(xts_transformed))\n",
        "print(classification_report(test_data.target, prediction_test))"
      ],
      "metadata": {
        "colab": {
          "base_uri": "https://localhost:8080/"
        },
        "id": "6Ck1uYlnCG0d",
        "outputId": "974e6f8d-af8f-4621-c4be-b1c8c0429615"
      },
      "execution_count": 82,
      "outputs": [
        {
          "output_type": "stream",
          "name": "stdout",
          "text": [
            "25/25 [==============================] - 0s 3ms/step\n",
            "                     precision    recall  f1-score   support\n",
            "\n",
            "  atis_abbreviation       1.00      1.00      1.00        33\n",
            "      atis_aircraft       0.89      0.89      0.89         9\n",
            "       atis_airfare       0.96      0.92      0.94        48\n",
            "       atis_airline       0.88      0.97      0.93        38\n",
            "        atis_flight       0.99      0.98      0.98       632\n",
            "   atis_flight_time       0.50      1.00      0.67         1\n",
            "atis_ground_service       0.94      0.94      0.94        36\n",
            "      atis_quantity       0.43      1.00      0.60         3\n",
            "\n",
            "           accuracy                           0.97       800\n",
            "          macro avg       0.82      0.96      0.87       800\n",
            "       weighted avg       0.98      0.97      0.97       800\n",
            "\n"
          ]
        }
      ]
    }
  ]
}